{
 "cells": [
  {
   "cell_type": "code",
   "execution_count": 12,
   "id": "8e62f548",
   "metadata": {},
   "outputs": [
    {
     "name": "stdout",
     "output_type": "stream",
     "text": [
      "{'encoding': 'UTF-16', 'confidence': 1.0, 'language': ''}\n"
     ]
    }
   ],
   "source": [
    "import chardet\n",
    "\n",
    "with open(\"./data/test/AssetList.csv\", 'rb') as f:\n",
    "    result = chardet.detect(f.read(10000))\n",
    "    print(result)"
   ]
  },
  {
   "cell_type": "code",
   "execution_count": 14,
   "id": "54073af5",
   "metadata": {},
   "outputs": [
    {
     "data": {
      "text/html": [
       "<div>\n",
       "<style scoped>\n",
       "    .dataframe tbody tr th:only-of-type {\n",
       "        vertical-align: middle;\n",
       "    }\n",
       "\n",
       "    .dataframe tbody tr th {\n",
       "        vertical-align: top;\n",
       "    }\n",
       "\n",
       "    .dataframe thead th {\n",
       "        text-align: right;\n",
       "    }\n",
       "</style>\n",
       "<table border=\"1\" class=\"dataframe\">\n",
       "  <thead>\n",
       "    <tr style=\"text-align: right;\">\n",
       "      <th></th>\n",
       "      <th>---</th>\n",
       "      <th>PropID</th>\n",
       "      <th>PropName</th>\n",
       "      <th>PropDescription</th>\n",
       "      <th>PropCategory</th>\n",
       "      <th>PropSubCategories</th>\n",
       "      <th>PropIcon</th>\n",
       "      <th>PropClass</th>\n",
       "    </tr>\n",
       "  </thead>\n",
       "  <tbody>\n",
       "    <tr>\n",
       "      <th>0</th>\n",
       "      <td>1001</td>\n",
       "      <td>1001</td>\n",
       "      <td>NSLOCTEXT(\"[9781E5AB24D0855921CD012FC33C4639]\"...</td>\n",
       "      <td>NSLOCTEXT(\"[9781E5AB24D0855921CD012FC33C4639]\"...</td>\n",
       "      <td>Basic</td>\n",
       "      <td>(Wood)</td>\n",
       "      <td>/Script/Engine.Texture2D'/Game/Props/Build/Tex...</td>\n",
       "      <td>/Script/Engine.BlueprintGeneratedClass'/Game/P...</td>\n",
       "    </tr>\n",
       "    <tr>\n",
       "      <th>1</th>\n",
       "      <td>1002</td>\n",
       "      <td>1002</td>\n",
       "      <td>NSLOCTEXT(\"[9781E5AB24D0855921CD012FC33C4639]\"...</td>\n",
       "      <td>NSLOCTEXT(\"[9781E5AB24D0855921CD012FC33C4639]\"...</td>\n",
       "      <td>Basic</td>\n",
       "      <td>(Wood,Build)</td>\n",
       "      <td>/Script/Engine.Texture2D'/Game/Props/Build/Tex...</td>\n",
       "      <td>/Script/Engine.BlueprintGeneratedClass'/Game/P...</td>\n",
       "    </tr>\n",
       "    <tr>\n",
       "      <th>2</th>\n",
       "      <td>1003</td>\n",
       "      <td>1003</td>\n",
       "      <td>NSLOCTEXT(\"[9781E5AB24D0855921CD012FC33C4639]\"...</td>\n",
       "      <td>NSLOCTEXT(\"[9781E5AB24D0855921CD012FC33C4639]\"...</td>\n",
       "      <td>Basic</td>\n",
       "      <td>(Wood,Build)</td>\n",
       "      <td>/Script/Engine.Texture2D'/Game/Props/Build/Tex...</td>\n",
       "      <td>/Script/Engine.BlueprintGeneratedClass'/Game/P...</td>\n",
       "    </tr>\n",
       "    <tr>\n",
       "      <th>3</th>\n",
       "      <td>1004</td>\n",
       "      <td>1004</td>\n",
       "      <td>NSLOCTEXT(\"[9781E5AB24D0855921CD012FC33C4639]\"...</td>\n",
       "      <td>NSLOCTEXT(\"[9781E5AB24D0855921CD012FC33C4639]\"...</td>\n",
       "      <td>Basic</td>\n",
       "      <td>(Plant,Summer)</td>\n",
       "      <td>/Script/Engine.Texture2D'/Game/Props/Build/Tex...</td>\n",
       "      <td>/Script/Engine.BlueprintGeneratedClass'/Game/P...</td>\n",
       "    </tr>\n",
       "    <tr>\n",
       "      <th>4</th>\n",
       "      <td>1005</td>\n",
       "      <td>1005</td>\n",
       "      <td>NSLOCTEXT(\"[9781E5AB24D0855921CD012FC33C4639]\"...</td>\n",
       "      <td>NSLOCTEXT(\"[9781E5AB24D0855921CD012FC33C4639]\"...</td>\n",
       "      <td>Basic</td>\n",
       "      <td>(Plant,Summer)</td>\n",
       "      <td>/Script/Engine.Texture2D'/Game/Props/Build/Tex...</td>\n",
       "      <td>/Script/Engine.BlueprintGeneratedClass'/Game/P...</td>\n",
       "    </tr>\n",
       "  </tbody>\n",
       "</table>\n",
       "</div>"
      ],
      "text/plain": [
       "    ---  PropID                                           PropName  \\\n",
       "0  1001    1001  NSLOCTEXT(\"[9781E5AB24D0855921CD012FC33C4639]\"...   \n",
       "1  1002    1002  NSLOCTEXT(\"[9781E5AB24D0855921CD012FC33C4639]\"...   \n",
       "2  1003    1003  NSLOCTEXT(\"[9781E5AB24D0855921CD012FC33C4639]\"...   \n",
       "3  1004    1004  NSLOCTEXT(\"[9781E5AB24D0855921CD012FC33C4639]\"...   \n",
       "4  1005    1005  NSLOCTEXT(\"[9781E5AB24D0855921CD012FC33C4639]\"...   \n",
       "\n",
       "                                     PropDescription PropCategory  \\\n",
       "0  NSLOCTEXT(\"[9781E5AB24D0855921CD012FC33C4639]\"...        Basic   \n",
       "1  NSLOCTEXT(\"[9781E5AB24D0855921CD012FC33C4639]\"...        Basic   \n",
       "2  NSLOCTEXT(\"[9781E5AB24D0855921CD012FC33C4639]\"...        Basic   \n",
       "3  NSLOCTEXT(\"[9781E5AB24D0855921CD012FC33C4639]\"...        Basic   \n",
       "4  NSLOCTEXT(\"[9781E5AB24D0855921CD012FC33C4639]\"...        Basic   \n",
       "\n",
       "  PropSubCategories                                           PropIcon  \\\n",
       "0            (Wood)  /Script/Engine.Texture2D'/Game/Props/Build/Tex...   \n",
       "1      (Wood,Build)  /Script/Engine.Texture2D'/Game/Props/Build/Tex...   \n",
       "2      (Wood,Build)  /Script/Engine.Texture2D'/Game/Props/Build/Tex...   \n",
       "3    (Plant,Summer)  /Script/Engine.Texture2D'/Game/Props/Build/Tex...   \n",
       "4    (Plant,Summer)  /Script/Engine.Texture2D'/Game/Props/Build/Tex...   \n",
       "\n",
       "                                           PropClass  \n",
       "0  /Script/Engine.BlueprintGeneratedClass'/Game/P...  \n",
       "1  /Script/Engine.BlueprintGeneratedClass'/Game/P...  \n",
       "2  /Script/Engine.BlueprintGeneratedClass'/Game/P...  \n",
       "3  /Script/Engine.BlueprintGeneratedClass'/Game/P...  \n",
       "4  /Script/Engine.BlueprintGeneratedClass'/Game/P...  "
      ]
     },
     "execution_count": 14,
     "metadata": {},
     "output_type": "execute_result"
    }
   ],
   "source": [
    "import pandas as pd\n",
    "\n",
    "data = pd.read_csv(\"./data/test/AssetList.csv\", encoding=\"UTF-16\")\n",
    "df = pd.DataFrame(data)\n",
    "df.head()"
   ]
  },
  {
   "cell_type": "code",
   "execution_count": 17,
   "id": "614e7705",
   "metadata": {},
   "outputs": [
    {
     "data": {
      "text/plain": [
       "PropSubCategories  \n",
       "(Flower)               10\n",
       "(Wood,Summer)           8\n",
       "(Wood,Build)            7\n",
       "(Soil,Summer)           6\n",
       "(Plant,Summer)          5\n",
       "(Soil)                  5\n",
       "(Wood)                  5\n",
       "(Build)                 3\n",
       "(Stone)                 3\n",
       "(Bouncing)              2\n",
       "(AI)                    2\n",
       "(Plant)                 2\n",
       "(Moving)                1\n",
       "(Pad)                   1\n",
       "(Firing)                1\n",
       "(Ending)                1\n",
       "(DecorationEtc)         1\n",
       "(Fire)                  1\n",
       "(Rotating,Bouncing)     1\n",
       "Name: count, dtype: int64"
      ]
     },
     "execution_count": 17,
     "metadata": {},
     "output_type": "execute_result"
    }
   ],
   "source": [
    "df[['PropSubCategories']].value_counts()"
   ]
  },
  {
   "cell_type": "code",
   "execution_count": null,
   "id": "c1259f34",
   "metadata": {},
   "outputs": [],
   "source": []
  }
 ],
 "metadata": {
  "kernelspec": {
   "display_name": "unreal_ai_310",
   "language": "python",
   "name": "python3"
  },
  "language_info": {
   "codemirror_mode": {
    "name": "ipython",
    "version": 3
   },
   "file_extension": ".py",
   "mimetype": "text/x-python",
   "name": "python",
   "nbconvert_exporter": "python",
   "pygments_lexer": "ipython3",
   "version": "3.10.16"
  }
 },
 "nbformat": 4,
 "nbformat_minor": 5
}
